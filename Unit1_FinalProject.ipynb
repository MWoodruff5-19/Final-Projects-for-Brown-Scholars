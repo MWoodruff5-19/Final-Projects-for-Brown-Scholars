{
 "cells": [
  {
   "cell_type": "markdown",
   "metadata": {},
   "source": [
    "# Let's map some earthquakes!\n",
    "\n",
    "Use this notebook to complete your final project for unit 1. You'll use a \"for loop\" and conditionals to select the right earthquakes to plot on your map and discover something about the seismic activity in your region."
   ]
  },
  {
   "cell_type": "markdown",
   "metadata": {},
   "source": [
    "## Data Setup\n",
    "In this section we'll open up our data file and turn it into a list of lists that we can work with using \"for loops\"."
   ]
  },
  {
   "cell_type": "markdown",
   "metadata": {},
   "source": [
    "We'll be making a graph, so import the matplotlib.pyplot library with the alias plt:"
   ]
  },
  {
   "cell_type": "code",
   "execution_count": 112,
   "metadata": {},
   "outputs": [],
   "source": [
    "import matplotlib.pyplot as plt"
   ]
  },
  {
   "cell_type": "markdown",
   "metadata": {},
   "source": [
    "Next, we will open the data file using the open() function and then skip the first row using the .readline() method:"
   ]
  },
  {
   "cell_type": "code",
   "execution_count": 113,
   "metadata": {},
   "outputs": [
    {
     "data": {
      "text/plain": [
       "'YEAR\\tFOCAL_DEPTH\\tEQ_PRIMARY\\tCOUNTRY\\tSTATE\\tLOCATION_NAME\\tLATITUDE\\tLONGITUDE\\tREGION_CODE\\tDEATHS\\tDAMAGE_MILLIONS_DOLLARS\\tHOUSES_DESTROYED\\tHOUSES_DESTROYED_DESCRIPTION\\tHOUSES_DAMAGED\\n'"
      ]
     },
     "execution_count": 113,
     "metadata": {},
     "output_type": "execute_result"
    }
   ],
   "source": [
    "all_quakes = open(\"quakes_project.txt\")#open is a function\n",
    "all_quakes.readline() #method, not function\n",
    "\n",
    "# The \\t in between each column name lets you know that this text file is separated by tabs; Each word separated by a slash is a title for each column of data in a data set"
   ]
  },
  {
   "cell_type": "markdown",
   "metadata": {},
   "source": [
    "Currently our file is one long string. Let's make each line of the data file a list and put all of those lists into one big list called quakes_list. "
   ]
  },
  {
   "cell_type": "code",
   "execution_count": 114,
   "metadata": {},
   "outputs": [],
   "source": [
    "quakes_list = []\n",
    "for i in all_quakes:\n",
    "    quakes_list.append(i.split('\\t')) # The .split() method separates the items in each line, row by row\n",
    "    #looping through every row of data ex: every different earthquake\n",
    "    #text file -> list"
   ]
  },
  {
   "cell_type": "code",
   "execution_count": 115,
   "metadata": {},
   "outputs": [
    {
     "name": "stdout",
     "output_type": "stream",
     "text": [
      "['1800', '', '', 'MEXICO', '', '\"MEXICO:  MEXICO CITY,OAXACA\"', '19.2', '-99.1', '150', '', '', '', '', '\\n']\n"
     ]
    }
   ],
   "source": [
    "print(quakes_list[0])"
   ]
  },
  {
   "cell_type": "markdown",
   "metadata": {},
   "source": [
    "Print out the length of quakes_list to see how many earthquakes are in our data file:"
   ]
  },
  {
   "cell_type": "code",
   "execution_count": null,
   "metadata": {},
   "outputs": [],
   "source": []
  },
  {
   "cell_type": "markdown",
   "metadata": {},
   "source": [
    "## Selecting your data\n",
    "In this section you'll decide which data you need for your project. You'll use \"for loops\" and conditionals to select the right data."
   ]
  },
  {
   "cell_type": "markdown",
   "metadata": {},
   "source": [
    "You will need latitudes and longitudes for your scatter plot, so create two empty lists to hold those values:"
   ]
  },
  {
   "cell_type": "code",
   "execution_count": null,
   "metadata": {},
   "outputs": [],
   "source": []
  },
  {
   "cell_type": "markdown",
   "metadata": {},
   "source": [
    "Next, decide as a group what range of years you want to look at (between 1800 and 2018). You should base your decision on the research you did on the seismic activity in your region.\n",
    "\n"
   ]
  },
  {
   "cell_type": "markdown",
   "metadata": {},
   "source": [
    "You'll also need to know the \"region code\" for your region:\n",
    "- Africa: 10\n",
    "- Central America: 100\n",
    "- Central and South Pacific: 170\n",
    "- North America: 150\n",
    "- South America: 160"
   ]
  },
  {
   "cell_type": "markdown",
   "metadata": {},
   "source": [
    "Create a \"for loop\" that loops through the lines in quakes_list and appends the latitute and longitude to the lists you created above **if** the earthquake for that row occurred in your region and during your year range.\n",
    "\n",
    "Hints:\n",
    "- You can nest an if statement inside another if statement\n",
    "- You can compare a value to two other values like this: 5 < x < 10"
   ]
  },
  {
   "cell_type": "code",
   "execution_count": 119,
   "metadata": {},
   "outputs": [],
   "source": [
    "africa_lg =[]\n",
    "africa_lat=[]\n",
    "\n",
    "for quake in quakes_list:\n",
    "    if quake[8] == \"10\":\n",
    "        africa_lg.append(float(quake[7]))\n",
    "        africa_lat.append(float(quake[6]))\n",
    "    "
   ]
  },
  {
   "cell_type": "markdown",
   "metadata": {},
   "source": [
    "Print out the length of your latitude and longitude lists. Does this result make sense?"
   ]
  },
  {
   "cell_type": "code",
   "execution_count": 120,
   "metadata": {},
   "outputs": [
    {
     "name": "stdout",
     "output_type": "stream",
     "text": [
      "66\n",
      "66\n"
     ]
    }
   ],
   "source": [
    "print(len(africa_lat))\n",
    "print(len(africa_lg))"
   ]
  },
  {
   "cell_type": "markdown",
   "metadata": {},
   "source": [
    "## Making your graph\n",
    "Now that you've created lists with your x data (longitude) and y data (latitude) it's time to make a scatter plot!"
   ]
  },
  {
   "cell_type": "markdown",
   "metadata": {},
   "source": [
    "Replace the coordinates in plt.xlim and plt.ylim functions below as follows:\n",
    "- Africa: x = (-25,50), y = (-40,45)\n",
    "- Central America: x = (-100,-70), y = (0,25)\n",
    "- Central and South Pacific: x = (80,180), y = (-70,30)\n",
    "- North America: x = (-180,-50), y = (0,90)\n",
    "- South America: x = (-120,-20), y = (-60,20)"
   ]
  },
  {
   "cell_type": "code",
   "execution_count": 134,
   "metadata": {},
   "outputs": [
    {
     "data": {
      "text/plain": [
       "Text(0.5, 1.0, 'Earthquakes in Africa')"
      ]
     },
     "execution_count": 134,
     "metadata": {},
     "output_type": "execute_result"
    },
    {
     "data": {
      "text/plain": [
       "<Figure size 432x288 with 0 Axes>"
      ]
     },
     "metadata": {},
     "output_type": "display_data"
    },
    {
     "data": {
      "image/png": "[encoded data removed]",
      "text/plain": [
       "<Figure size 432x288 with 1 Axes>"
      ]
     },
     "metadata": {
      "needs_background": "light"
     },
     "output_type": "display_data"
    }
   ],
   "source": [
    "# This function clears any leftover plots\n",
    "plt.clf()\n",
    "\n",
    "# This code adds an image behind your plot\n",
    "image = plt.imread(\"plates.png\")#or earth.jpg for the continent, not the plates\n",
    "fig, ax = plt.subplots()\n",
    "ax.imshow(image, extent = [-180,180,-90,90])\n",
    "\n",
    "# This code crops the image to show only your region. \n",
    "# IMPORTANT: Replace the coordinates in plt.xlim and plt.ylim functions\n",
    "# To match your region using the key above\n",
    "plt.xlim(-25,50)\n",
    "plt.ylim(-40,45)\n",
    "\n",
    "# Create a scatter plot using plt.scatter(). \n",
    "plt.scatter(africa_lg,africa_lat)\n",
    "# You can change the size, shape, and color of your markers! \n",
    "# Try adding s = #, marker = \"symbol\", and c = \"color\"\n",
    "\n",
    "# Don't forget plt.show()!\n",
    "plt.title(\"Earthquakes in Africa\")\n",
    "#plt.show()\n"
   ]
  },
  {
   "cell_type": "markdown",
   "metadata": {},
   "source": [
    "### Modify the points on your graph!\n",
    "You can find the complete list of possible markers here: https://matplotlib.org/api/markers_api.html \n",
    "\n",
    "and the possible colors here: https://i.stack.imgur.com/lFZum.png"
   ]
  },
  {
   "cell_type": "markdown",
   "metadata": {},
   "source": [
    "### Download your graph\n",
    "\n",
    "When you're happy with your graph, you can download it to your computer using the plt.savefig() function. This function takes two arguments: whatever you'd like to name the file in a string (ex: \"quakes_graph.png\") and dpi=1000. The file will be downloaded to the same folder as the Jupyter Notebook file.\n",
    "\n",
    "**Note: You will need to comment out plt.show() and rerun your graphing code before running plt.savefig().** \n",
    "\n",
    "plt.show() outputs the graph and prevents you from downloading it to your computer."
   ]
  },
  {
   "cell_type": "code",
   "execution_count": 135,
   "metadata": {},
   "outputs": [
    {
     "data": {
      "text/plain": [
       "<Figure size 432x288 with 0 Axes>"
      ]
     },
     "metadata": {},
     "output_type": "display_data"
    }
   ],
   "source": [
    "# Example: plt.savefig(\"quakes_graph.png\", dpi = 1000)\n",
    "plt.savefig(\"quakes_graph.png\",dpi=1000)"
   ]
  },
  {
   "cell_type": "markdown",
   "metadata": {},
   "source": [
    "## Mapping tectonic plate boundaries\n",
    "Copy and paste all your graphing code in the cell below. Then change replace **image = plt.imread(\"earth.jpg\")** with **image = plt.imread(\"plates.png\")**\n",
    "\n",
    "Run your code and examine the results! Do you see what you expect?"
   ]
  },
  {
   "cell_type": "code",
   "execution_count": null,
   "metadata": {},
   "outputs": [],
   "source": []
  },
  {
   "cell_type": "code",
   "execution_count": null,
   "metadata": {},
   "outputs": [],
   "source": []
  },
  {
   "cell_type": "code",
   "execution_count": null,
   "metadata": {},
   "outputs": [],
   "source": []
  },
  {
   "cell_type": "code",
   "execution_count": null,
   "metadata": {},
   "outputs": [],
   "source": []
  },
  {
   "cell_type": "code",
   "execution_count": null,
   "metadata": {},
   "outputs": [],
   "source": []
  }
 ],
 "metadata": {
  "kernelspec": {
   "display_name": "Python 3",
   "language": "python",
   "name": "python3"
  },
  "language_info": {
   "codemirror_mode": {
    "name": "ipython",
    "version": 3
   },
   "file_extension": ".py",
   "mimetype": "text/x-python",
   "name": "python",
   "nbconvert_exporter": "python",
   "pygments_lexer": "ipython3",
   "version": "3.7.3"
  }
 },
 "nbformat": 4,
 "nbformat_minor": 2
}

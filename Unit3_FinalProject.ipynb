{
 "cells": [
  {
   "cell_type": "markdown",
   "metadata": {},
   "source": [
    "# Unit 3 Final Projects: Calculating evolutionary distance\n",
    "\n",
    "In this notebook you will compare the sequence of a particular gene from 3 different species to find out which two are most closely related. \n",
    "\n",
    "You will need to do the following:\n",
    "1. Open and read in your files\n",
    "2. Decide which sequences to compare (DNA, RNA, or protein)\n",
    "3. Write code that prints out the percent similarity of each pair of sequences"
   ]
  },
  {
   "cell_type": "code",
   "execution_count": 89,
   "metadata": {},
   "outputs": [],
   "source": [
    "bhsheep =  open(\"5a_mito_DNA.txt\").read()\n",
    "cpeccary =  open(\"5b_mito_DNA.txt\").read()\n",
    "abadger =  open(\"5c_mito_DNA.txt\").read()"
   ]
  },
  {
   "cell_type": "code",
   "execution_count": 90,
   "metadata": {},
   "outputs": [
    {
     "name": "stdout",
     "output_type": "stream",
     "text": [
      "GTTAATGTAGCTTAAACTTAAAGCAAGGCACTGAAAATGCCTAGACGAGTCTACTGACTCCATGAACATATAGGTTTGGTCCCAGCCTTCCTGTTAACTTTCAATAGACTTATACATGCAAGCATCCACGCCCCGGTGAGTAACGCCCTTCAAATCACACAGGACTAAAAGGAGCAGGTATCAAGCACACACCCCTGTAGCTCACAACGCCTTGCTTAACCACACCCCCACGGGAGACAGCAGTAACAAAAATTAAGCCATAAACGAAAGTTTGACTAAGCCATATTGACTAGGGTTGGTAAATCTCGTGCCAGCCACCGCGGTCATACGATTGACCCAAGCTAACAGGAGTACGGCGTAAAGCGTGTTAAAGCACCATATCAAATAGAGTTAAATTTTAATTAAACTGTAAAAAGCCATAATTATAGCAAAAATAAATGATGAAAATAACCCTATAACAGCTGATACACTATAGCTAAGACCCAAACTGGGATTAGATACCCCACTATGCTTAGCCCTAAACACAAATAATTATAAAAACAAAATTATTCGCCAGAGTACTACCGGCAACAGCCCGAAACTCAAAGGACTTGGCGGTGCTTTATACCCTTCTAGAGGAGCCTGTTCTATAATCGATAAACCCCGATAAACCTCACCAATCCTTGCTAATACAGTCTATATACCGCCATCTTCAGCAAACCCTAAAAAAGGAACAAAAGTAAGCTCAATAATAATACATAAAGACGTTAGGTCAAGGTGTAACCTATGGAGTGGGAAGAAATGGGCTACATTTTCTACTCAAGAAAATTTAATACGAAAGCCATTATGAAATTAATAGCCAAAGGAGGATTTAGCAGTAAACTAAGAATAGAGTGCTTAGTTGAATTAGGCCATGAAGCACGCACACACCGCCCGTCACCCTCCTCAAGTAAATATGATATACTTAAACCTATTTATATATTAACCATACGAGAGGAGACAAGTCGTAACAAGGTAAGCATACTGGAAAGTGTGCTTGGACAAACCAAGATATAGCTTAATC\n",
      "1042\n"
     ]
    }
   ],
   "source": [
    "print(bhsheep)\n",
    "print(len(bhsheep))"
   ]
  },
  {
   "cell_type": "code",
   "execution_count": 91,
   "metadata": {},
   "outputs": [
    {
     "name": "stdout",
     "output_type": "stream",
     "text": [
      "GTTAATGTAGCTTAAACAAATAAAGCAAAGCACTGAAAATGCTTAGATGAGTAAAGCCACTCCATAAACACACAGGTTTGGTCCTAGCCTTTCCATTTATTTTTAGTAAAATTACACATGCAAGTATCCGCACCCCAGTGAGAATGCCCTCTAAATCTTAAAGATTAAAAGGAGCAGGTATCAAGCACACCCCATGGTAGCTCACAACACCTTGCTCAACCACACCCCCACGGGACACAGCAGTGATAGAAATTAAGCTATGAACGAAAGTTTGACTAAGTTATATTAAATAGAGTTGGTAAATATCGTGCCAGCCACCGCGGTCATACGATTAACCCAAATAAATGGAATCACGGCGTAAAGAGTGTCTAAGAAAAAACCCACAATAGAGCCAAATTTCAACTAAGCCGTAAAAAGCCATAGCTGAAAAACAAATAAACTACGAAGGTAGCTCTAATATCTCCAATACACGATAGCTAGGACCCAAACTGGGATTAGATACCCCACTATGCCTAGCCCTAAACCTAAATAATCGACCAACAAGATTATTCGCCAGAGTACTACTAGCAACAGCCTAAAACTCAAAGGACTTGACGGTGCTTCATATCCATCTAGAGGAGCCTGTTCTGTAATCGATAAACCCCGATAAACCTCACCAACCCTTGCCAAATCAGCCTATATACCGCCATCTTCAGCAAACCCTAAAAAGGAACAACAGTAAGCACAACTATAATCTATAAAAACGTTAGGTCAAGGTGTAGCCTATGGGTTGGGAAGAAATGGGCTACATTTTCTATATAAGAATACTTACGAAAATTCTTATGAAACTAAGAATTAAAGGAGGATTTAGCAGTAAATTAAGAATAGAGTGCTTAATTGAATAAGGCCACAAAGCACGCACACACCGCCCGTCACCCTCCTCAAGTAAACGTAGCATGCAAAACCTATTACAAACAAAACCACACAAGAGGAGACAAGTCGTAACAAGGTAAGCATACTGGAAAGTGTGCTTGGACTACCAAAGTATAGCTTAAAT\n",
      "1036\n"
     ]
    }
   ],
   "source": [
    "print(cpeccary)\n",
    "print(len(cpeccary))"
   ]
  },
  {
   "cell_type": "code",
   "execution_count": 92,
   "metadata": {},
   "outputs": [
    {
     "name": "stdout",
     "output_type": "stream",
     "text": [
      "GTTAGTGTAGCTTATAGATGTAAAGCAAGGCACTGAAAATGCCTAGAAGAGTCACAAGACTCCACAAACATAAAGGTTTGGTCCTAGCCTTCCTATTAGTTATTAGCAGAATTACACATGCAAGTTTCCGCATCCCAGTGAAAATGCCCTCTAAATCTCCAAATGATTAAAAGGAGCGGGTATCAAGCACACTAAACAAGTAGCTCACAACACCTTGCTCAACCACACCCCCACGGGATACAGCAGTGATAAAAATTAAGCCATAAACGAAAGTTTGACTAAGTCATGCTAACATTAGAGTTGGTAAATTTCGTGCCAGCCACCGCGGTCATACGATTAACCCAAATTAATAGGTCCCCGGCGTAAAACGTGTTAAGGACACCATAATACTAAAGTTAAAATTTAGCTAGGCCGTAAAAAGCTACCGCCAACATAAAATATGCCACGAAAGTGACTTTATTATTTCCGACAACACGATAGCTGAGACCCAAACTGGGATTAGATACCCCACTATGCTCAGCCCTAAACATAAATAATTCCAACAACAAAATTATCTGCCAGAGGACTACTAGCAATAGCCTAAAACTCAAAGGACTTGGCGGTGCTTTATATCCCTCTAGAGGAGCCTGTTCTATAATCGATAAACCCCGATAAACCTCACCACTTCTAGCTAAACCAGTTTATATACCGCCATCGTCAGCAAACCCTCAAAAGGAAGAAAAGTAAGCACAATAATATTACATAAAAAAGTTAGGTCAAGGTGTAACCAATGAAGTGGGAAGAAATGGGCTACATTTTCTAACCAAGACTAATACCTACGAAAGTTTATATGAAACCTACAAACTAAAGGTGGATTTAGTAGTAAATTAAGAATAGAGAGCTTAATTGAATAGGGCCATGAAGCACGCACACACCGCCCGTCACCCTCCTCAAACAACACACCAAAACATTACATAATACAAAACAAACCAACGCAAGAGGAGATAAGTCGTAACAAGGTAAGCACACTGGAAAGTGCGCTTGGATAAACCAAAGTGTAGCTTAACT\n",
      "1047\n"
     ]
    }
   ],
   "source": [
    "print(abadger)\n",
    "print(len(abadger))"
   ]
  },
  {
   "cell_type": "code",
   "execution_count": 104,
   "metadata": {},
   "outputs": [
    {
     "name": "stdout",
     "output_type": "stream",
     "text": [
      "742\n"
     ]
    }
   ],
   "source": [
    "counter = 0\n",
    "diffnum1 = 0\n",
    "for i in bhsheep:\n",
    "    if counter <len(cpeccary):\n",
    "        if cpeccary[counter]!= i:\n",
    "            \n",
    "            diffnum1 +=1\n",
    "            counter +=1\n",
    "print(diffnum1)"
   ]
  },
  {
   "cell_type": "code",
   "execution_count": 99,
   "metadata": {},
   "outputs": [
    {
     "name": "stdout",
     "output_type": "stream",
     "text": [
      "728\n"
     ]
    }
   ],
   "source": [
    "counter = 0\n",
    "diffnum2 = 0\n",
    "for i in bhsheep:\n",
    "    if counter <len(cpeccary):\n",
    "        if abadger[counter]!= i:\n",
    "            \n",
    "            diffnum2 +=1\n",
    "    counter +=1\n",
    "print(diffnum2)"
   ]
  },
  {
   "cell_type": "code",
   "execution_count": 100,
   "metadata": {},
   "outputs": [
    {
     "name": "stdout",
     "output_type": "stream",
     "text": [
      "28.44744455159113\n"
     ]
    }
   ],
   "source": [
    "percentsimP = (1037-diffnum1) /1037*100\n",
    "print(percentsimP)"
   ]
  },
  {
   "cell_type": "code",
   "execution_count": 101,
   "metadata": {},
   "outputs": [
    {
     "name": "stdout",
     "output_type": "stream",
     "text": [
      "29.797492767598843\n"
     ]
    }
   ],
   "source": [
    "percentsimB = (1037 - diffnum2) / 1037*100\n",
    "print(percentsimB)"
   ]
  },
  {
   "cell_type": "code",
   "execution_count": 102,
   "metadata": {},
   "outputs": [],
   "source": [
    "#C = 0\n",
    "#for C, t in enumerate(rnaTypes):\n",
    " #   print(rna[C] + \": \" + t)"
   ]
  },
  {
   "cell_type": "markdown",
   "metadata": {},
   "source": [
    "## Bonus Challenge\n",
    "\n",
    "Visualize your results! Choose a graph type that you think will communicate your conclusions effectively and create it using matplotlib:"
   ]
  },
  {
   "cell_type": "code",
   "execution_count": null,
   "metadata": {},
   "outputs": [],
   "source": []
  },
  {
   "cell_type": "markdown",
   "metadata": {},
   "source": [
    "## Bonus Challenge 2\n",
    "If you finish your project and want to try a challenge, come up with a hypothesis about which of the following species are most closely related to humans (carp, chicken, chimp, dog, eel, elephant, frog, gorilla, macaque monkey, mouse, orangutan, pig). Write out a ranked list with the species you think is most related to humans at the top.\n",
    "\n",
    "Then calculate the percent difference between the hemoglobin amino acid sequences of humans and each species to find out how close you came to the right ranking!"
   ]
  },
  {
   "cell_type": "code",
   "execution_count": null,
   "metadata": {},
   "outputs": [],
   "source": []
  },
  {
   "cell_type": "code",
   "execution_count": null,
   "metadata": {},
   "outputs": [],
   "source": []
  }
 ],
 "metadata": {
  "kernelspec": {
   "display_name": "Python 3",
   "language": "python",
   "name": "python3"
  },
  "language_info": {
   "codemirror_mode": {
    "name": "ipython",
    "version": 3
   },
   "file_extension": ".py",
   "mimetype": "text/x-python",
   "name": "python",
   "nbconvert_exporter": "python",
   "pygments_lexer": "ipython3",
   "version": "3.7.3"
  }
 },
 "nbformat": 4,
 "nbformat_minor": 2
}
